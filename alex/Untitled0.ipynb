{
 "metadata": {
  "name": "",
  "signature": "sha256:6df872c1d0a276434c5b014a762a1783cb57a5e7b03df1b3dc869ad7000764be"
 },
 "nbformat": 3,
 "nbformat_minor": 0,
 "worksheets": [
  {
   "cells": [
    {
     "cell_type": "code",
     "collapsed": false,
     "input": [
      "import random\n",
      "\n",
      "x=[]\n",
      "for i in range(100):\n",
      "    x.append(int(random.random()*100))    "
     ],
     "language": "python",
     "metadata": {},
     "outputs": [],
     "prompt_number": 7
    },
    {
     "cell_type": "code",
     "collapsed": false,
     "input": [
      "y = [a*a for a in x]"
     ],
     "language": "python",
     "metadata": {},
     "outputs": [
      {
       "output_type": "stream",
       "stream": "stdout",
       "text": [
        "94\n",
        "8836\n"
       ]
      }
     ],
     "prompt_number": 10
    },
    {
     "cell_type": "code",
     "collapsed": false,
     "input": [
      "%matplotlib inline\n",
      "import neurolab as nl\n",
      "import numpy as np\n",
      "size = len(x)\n",
      "\n",
      "\n",
      "inp = np.array(x).reshape(size,1)\n",
      "tar = np.array(y).reshape(size,1)\n",
      "\n",
      "net = nl.net.newff([[-7, 7]],[5, 1])\n",
      "\n",
      "error = net.train(inp, tar, epochs=500, show=100, goal=0.02)\n",
      "\n",
      "out = net.sim(inp)\n",
      "\n",
      "import pylab as pl\n",
      "\n",
      "x_t=[]\n",
      "for i in range(10):\n",
      "    x_t.append(int(random.random()*100)) \n",
      "    \n",
      "y_t = [a*a for a in x_t]\n",
      "\n",
      "y3 = out.reshape(size)\n",
      "\n",
      "pl.plot(x_t, y_t, '.',x , y, '.', x, y3, '-')\n",
      "pl.legend(['train target', 'net output'])\n"
     ],
     "language": "python",
     "metadata": {},
     "outputs": [
      {
       "metadata": {},
       "output_type": "pyout",
       "prompt_number": 25,
       "text": [
        "<matplotlib.legend.Legend at 0x112525590>"
       ]
      },
      {
       "metadata": {},
       "output_type": "display_data",
       "png": "[encoded data removed]",
       "text": [
        "<matplotlib.figure.Figure at 0x1146e1350>"
       ]
      }
     ],
     "prompt_number": 25
    },
    {
     "cell_type": "code",
     "collapsed": false,
     "input": [
      "np.array([1,2,3,4])"
     ],
     "language": "python",
     "metadata": {},
     "outputs": [
      {
       "metadata": {},
       "output_type": "pyout",
       "prompt_number": 16,
       "text": [
        "array([1, 2, 3, 4])"
       ]
      }
     ],
     "prompt_number": 16
    }
   ],
   "metadata": {}
  }
 ]
}