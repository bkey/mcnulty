{
 "metadata": {
  "name": "",
  "signature": "sha256:c529d1d2b2a5ea63066ac18a75f63684adb4fe81c7a43fdb41680e4219e44554"
 },
 "nbformat": 3,
 "nbformat_minor": 0,
 "worksheets": [
  {
   "cells": [
    {
     "cell_type": "code",
     "collapsed": true,
     "input": [
      "import pymysql\n",
      "import pandas\n",
      "\n",
      "conn = pymysql.connect(host='104.131.118.165',user='root',passwd='Mcnulty1',db='madmen')"
     ],
     "language": "python",
     "metadata": {},
     "outputs": [],
     "prompt_number": 1
    },
    {
     "cell_type": "code",
     "collapsed": false,
     "input": [
      "sql = \"SELECT * from big_table\"\n",
      "df = pandas.io.sql.read_frame(sql, conn)"
     ],
     "language": "python",
     "metadata": {},
     "outputs": [
      {
       "output_type": "stream",
       "stream": "stderr",
       "text": [
        "/usr/local/lib/python2.7/site-packages/pandas/io/sql.py:1189: FutureWarning: read_frame is deprecated, use read_sql\n",
        "  warnings.warn(\"read_frame is deprecated, use read_sql\", FutureWarning)\n"
       ]
      }
     ],
     "prompt_number": 2
    },
    {
     "cell_type": "code",
     "collapsed": true,
     "input": [
      "hh_w_kids = df[df.relationship.isin(['Child','Foster children','Grandchild'])][df['age']<20].groupby('serial_num').count().age.keys()\n",
      "all_hh = set(df.serial_num)\n",
      "hh_no_kids = all_hh.difference(hh_w_kids)"
     ],
     "language": "python",
     "metadata": {},
     "outputs": [
      {
       "output_type": "stream",
       "stream": "stderr",
       "text": [
        "/usr/local/lib/python2.7/site-packages/pandas/core/frame.py:1706: UserWarning: Boolean Series key will be reindexed to match DataFrame index.\n",
        "  \"DataFrame index.\", UserWarning)\n"
       ]
      }
     ],
     "prompt_number": 8
    },
    {
     "cell_type": "code",
     "collapsed": false,
     "input": [
      "no_kids_index = []\n",
      "for i in list(hh_no_kids):\n",
      "    no_kids_index += list(df[df.serial_num==i].index)"
     ],
     "language": "python",
     "metadata": {},
     "outputs": []
    },
    {
     "cell_type": "code",
     "collapsed": false,
     "input": [
      "has_kids_vals = pandas.Series([1]*len(df))\n",
      "for i in no_kids_index:\n",
      "    has_kids_vals[i]=0\n",
      "df['has_kids']=has_kids_vals"
     ],
     "language": "python",
     "metadata": {},
     "outputs": []
    },
    {
     "cell_type": "code",
     "collapsed": false,
     "input": [
      "conn = pymysql.connect(host='104.131.118.165',user='root',passwd='Mcnulty1',db='madmen')\n",
      "df.to_sql('kids',conn,if_exists='replace',flavor='mysql',index=False)"
     ],
     "language": "python",
     "metadata": {},
     "outputs": []
    },
    {
     "cell_type": "code",
     "collapsed": false,
     "input": [],
     "language": "python",
     "metadata": {},
     "outputs": []
    }
   ],
   "metadata": {}
  }
 ]
}