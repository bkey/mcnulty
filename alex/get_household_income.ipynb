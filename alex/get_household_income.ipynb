{
 "metadata": {
  "name": "",
  "signature": "sha256:fdcf1bc5dee9f971da4986599b6a71a337c3df254ef528b19104fd4c980cfda6"
 },
 "nbformat": 3,
 "nbformat_minor": 0,
 "worksheets": [
  {
   "cells": [
    {
     "cell_type": "code",
     "collapsed": false,
     "input": [
      "import pymysql\n",
      "import pandas\n",
      "\n",
      "conn = pymysql.connect(host='104.131.118.165',user='root',passwd='Mcnulty1',db='madmen')"
     ],
     "language": "python",
     "metadata": {},
     "outputs": [],
     "prompt_number": 1
    },
    {
     "cell_type": "code",
     "collapsed": false,
     "input": [
      "sql = \"SELECT * from parents_w_kids\"\n",
      "df = pandas.io.sql.read_frame(sql, conn)"
     ],
     "language": "python",
     "metadata": {},
     "outputs": [
      {
       "output_type": "stream",
       "stream": "stderr",
       "text": [
        "/usr/local/lib/python2.7/site-packages/pandas/io/sql.py:1189: FutureWarning: read_frame is deprecated, use read_sql\n",
        "  warnings.warn(\"read_frame is deprecated, use read_sql\", FutureWarning)\n"
       ]
      }
     ],
     "prompt_number": 2
    },
    {
     "cell_type": "code",
     "collapsed": false,
     "input": [
      "for i in range(len(df)):\n",
      "    if df.ix[i].income == 99999999:\n",
      "        df.loc[i,'income'] = 0\n"
     ],
     "language": "python",
     "metadata": {},
     "outputs": [],
     "prompt_number": 3
    },
    {
     "cell_type": "code",
     "collapsed": false,
     "input": [
      "def is_high_income(val):\n",
      "    if val>70000:\n",
      "        return 1\n",
      "    else:\n",
      "        return 0"
     ],
     "language": "python",
     "metadata": {},
     "outputs": [],
     "prompt_number": 4
    },
    {
     "cell_type": "code",
     "collapsed": false,
     "input": [
      "household_income = df.groupby(['serial_num'])['income'].sum()\n",
      "household_income = household_income.apply(is_high_income)"
     ],
     "language": "python",
     "metadata": {},
     "outputs": [],
     "prompt_number": 5
    },
    {
     "cell_type": "code",
     "collapsed": false,
     "input": [
      "df = df.join(household_income,on='serial_num',rsuffix='_household')"
     ],
     "language": "python",
     "metadata": {},
     "outputs": [],
     "prompt_number": 6
    },
    {
     "cell_type": "code",
     "collapsed": false,
     "input": [
      "df.target = (df.target&df.income_household).astype(int)"
     ],
     "language": "python",
     "metadata": {},
     "outputs": [],
     "prompt_number": 7
    },
    {
     "cell_type": "code",
     "collapsed": false,
     "input": [
      "df.to_sql('alex_db',conn,if_exists='replace',flavor='mysql',index=False)"
     ],
     "language": "python",
     "metadata": {},
     "outputs": [
      {
       "output_type": "stream",
       "stream": "stderr",
       "text": [
        "/usr/local/lib/python2.7/site-packages/pandas/io/sql.py:520: FutureWarning: The 'mysql' flavor with DBAPI connection is deprecated and will be removed in future versions. MySQL will be further supported with SQLAlchemy engines.\n",
        "  warnings.warn(_MYSQL_WARNING, FutureWarning)\n"
       ]
      }
     ],
     "prompt_number": 8
    }
   ],
   "metadata": {}
  }
 ]
}