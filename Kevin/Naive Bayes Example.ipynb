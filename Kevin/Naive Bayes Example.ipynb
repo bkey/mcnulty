{
 "metadata": {
  "name": "",
  "signature": "sha256:e4a94926edd11633b09ba8950b106775c0e6c3974aacab030a4b884081415307"
 },
 "nbformat": 3,
 "nbformat_minor": 0,
 "worksheets": [
  {
   "cells": [
    {
     "cell_type": "code",
     "collapsed": false,
     "input": [
      "from sklearn.datasets import load_digits\n",
      "digits = load_digits()"
     ],
     "language": "python",
     "metadata": {},
     "outputs": [],
     "prompt_number": 92
    },
    {
     "cell_type": "code",
     "collapsed": false,
     "input": [
      "dir(digits)"
     ],
     "language": "python",
     "metadata": {},
     "outputs": [
      {
       "metadata": {},
       "output_type": "pyout",
       "prompt_number": 93,
       "text": [
        "['DESCR',\n",
        " '__class__',\n",
        " '__cmp__',\n",
        " '__contains__',\n",
        " '__delattr__',\n",
        " '__delitem__',\n",
        " '__dict__',\n",
        " '__doc__',\n",
        " '__eq__',\n",
        " '__format__',\n",
        " '__ge__',\n",
        " '__getattribute__',\n",
        " '__getitem__',\n",
        " '__gt__',\n",
        " '__hash__',\n",
        " '__init__',\n",
        " '__iter__',\n",
        " '__le__',\n",
        " '__len__',\n",
        " '__lt__',\n",
        " '__module__',\n",
        " '__ne__',\n",
        " '__new__',\n",
        " '__reduce__',\n",
        " '__reduce_ex__',\n",
        " '__repr__',\n",
        " '__setattr__',\n",
        " '__setitem__',\n",
        " '__sizeof__',\n",
        " '__str__',\n",
        " '__subclasshook__',\n",
        " '__weakref__',\n",
        " 'clear',\n",
        " 'copy',\n",
        " 'data',\n",
        " 'fromkeys',\n",
        " 'get',\n",
        " 'has_key',\n",
        " 'images',\n",
        " 'items',\n",
        " 'iteritems',\n",
        " 'iterkeys',\n",
        " 'itervalues',\n",
        " 'keys',\n",
        " 'pop',\n",
        " 'popitem',\n",
        " 'setdefault',\n",
        " 'target',\n",
        " 'target_names',\n",
        " 'update',\n",
        " 'values',\n",
        " 'viewitems',\n",
        " 'viewkeys',\n",
        " 'viewvalues']"
       ]
      }
     ],
     "prompt_number": 93
    },
    {
     "cell_type": "code",
     "collapsed": false,
     "input": [
      "print digits.DESCR"
     ],
     "language": "python",
     "metadata": {},
     "outputs": [
      {
       "output_type": "stream",
       "stream": "stdout",
       "text": [
        " Optical Recognition of Handwritten Digits Data Set\n",
        "\n",
        "Notes\n",
        "-----\n",
        "Data Set Characteristics:\n",
        "    :Number of Instances: 5620\n",
        "    :Number of Attributes: 64\n",
        "    :Attribute Information: 8x8 image of integer pixels in the range 0..16.\n",
        "    :Missing Attribute Values: None\n",
        "    :Creator: E. Alpaydin (alpaydin '@' boun.edu.tr)\n",
        "    :Date: July; 1998\n",
        "\n",
        "This is a copy of the test set of the UCI ML hand-written digits datasets\n",
        "http://archive.ics.uci.edu/ml/datasets/Optical+Recognition+of+Handwritten+Digits\n",
        "\n",
        "The data set contains images of hand-written digits: 10 classes where\n",
        "each class refers to a digit.\n",
        "\n",
        "Preprocessing programs made available by NIST were used to extract\n",
        "normalized bitmaps of handwritten digits from a preprinted form. From a\n",
        "total of 43 people, 30 contributed to the training set and different 13\n",
        "to the test set. 32x32 bitmaps are divided into nonoverlapping blocks of\n",
        "4x4 and the number of on pixels are counted in each block. This generates\n",
        "an input matrix of 8x8 where each element is an integer in the range\n",
        "0..16. This reduces dimensionality and gives invariance to small\n",
        "distortions.\n",
        "\n",
        "For info on NIST preprocessing routines, see M. D. Garris, J. L. Blue, G.\n",
        "T. Candela, D. L. Dimmick, J. Geist, P. J. Grother, S. A. Janet, and C.\n",
        "L. Wilson, NIST Form-Based Handprint Recognition System, NISTIR 5469,\n",
        "1994.\n",
        "\n",
        "References\n",
        "----------\n",
        "  - C. Kaynak (1995) Methods of Combining Multiple Classifiers and Their\n",
        "    Applications to Handwritten Digit Recognition, MSc Thesis, Institute of\n",
        "    Graduate Studies in Science and Engineering, Bogazici University.\n",
        "  - E. Alpaydin, C. Kaynak (1998) Cascading Classifiers, Kybernetika.\n",
        "  - Ken Tang and Ponnuthurai N. Suganthan and Xi Yao and A. Kai Qin.\n",
        "    Linear dimensionalityreduction using relevance weighted LDA. School of\n",
        "    Electrical and Electronic Engineering Nanyang Technological University.\n",
        "    2005.\n",
        "  - Claudio Gentile. A New Approximate Maximal Margin Classification\n",
        "    Algorithm. NIPS. 2000.\n",
        "\n"
       ]
      }
     ],
     "prompt_number": 94
    },
    {
     "cell_type": "code",
     "collapsed": false,
     "input": [
      "print load_digits.__doc__"
     ],
     "language": "python",
     "metadata": {},
     "outputs": [
      {
       "output_type": "stream",
       "stream": "stdout",
       "text": [
        "Load and return the digits dataset (classification).\n",
        "\n",
        "    Each datapoint is a 8x8 image of a digit.\n",
        "\n",
        "    =================   ==============\n",
        "    Classes                         10\n",
        "    Samples per class             ~180\n",
        "    Samples total                 1797\n",
        "    Dimensionality                  64\n",
        "    Features             integers 0-16\n",
        "    =================   ==============\n",
        "\n",
        "\n",
        "    Parameters\n",
        "    ----------\n",
        "    n_class : integer, between 0 and 10, optional (default=10)\n",
        "        The number of classes to return.\n",
        "\n",
        "    Returns\n",
        "    -------\n",
        "    data : Bunch\n",
        "        Dictionary-like object, the interesting attributes are:\n",
        "        'data', the data to learn, 'images', the images corresponding\n",
        "        to each sample, 'target', the classification labels for each\n",
        "        sample, 'target_names', the meaning of the labels, and 'DESCR',\n",
        "        the full description of the dataset.\n",
        "\n",
        "    Examples\n",
        "    --------\n",
        "    To load the data and visualize the images::\n",
        "\n",
        "        >>> from sklearn.datasets import load_digits\n",
        "        >>> digits = load_digits()\n",
        "        >>> print(digits.data.shape)\n",
        "        (1797, 64)\n",
        "        >>> import pylab as pl #doctest: +SKIP\n",
        "        >>> pl.gray() #doctest: +SKIP\n",
        "        >>> pl.matshow(digits.images[0]) #doctest: +SKIP\n",
        "        >>> pl.show() #doctest: +SKIP\n",
        "    \n"
       ]
      }
     ],
     "prompt_number": 95
    },
    {
     "cell_type": "code",
     "collapsed": false,
     "input": [
      "print digits.data"
     ],
     "language": "python",
     "metadata": {},
     "outputs": [
      {
       "output_type": "stream",
       "stream": "stdout",
       "text": [
        "[[  0.   0.   5. ...,   0.   0.   0.]\n",
        " [  0.   0.   0. ...,  10.   0.   0.]\n",
        " [  0.   0.   0. ...,  16.   9.   0.]\n",
        " ..., \n",
        " [  0.   0.   1. ...,   6.   0.   0.]\n",
        " [  0.   0.   2. ...,  12.   0.   0.]\n",
        " [  0.   0.  10. ...,  12.   1.   0.]]\n"
       ]
      }
     ],
     "prompt_number": 96
    },
    {
     "cell_type": "code",
     "collapsed": false,
     "input": [
      "print digits.data.shape"
     ],
     "language": "python",
     "metadata": {},
     "outputs": [
      {
       "output_type": "stream",
       "stream": "stdout",
       "text": [
        "(1797, 64)\n"
       ]
      }
     ],
     "prompt_number": 97
    },
    {
     "cell_type": "code",
     "collapsed": false,
     "input": [
      "print digits.images.shape"
     ],
     "language": "python",
     "metadata": {},
     "outputs": [
      {
       "output_type": "stream",
       "stream": "stdout",
       "text": [
        "(1797, 8, 8)\n"
       ]
      }
     ],
     "prompt_number": 98
    },
    {
     "cell_type": "code",
     "collapsed": false,
     "input": [
      "print digits.images[0]"
     ],
     "language": "python",
     "metadata": {},
     "outputs": [
      {
       "output_type": "stream",
       "stream": "stdout",
       "text": [
        "[[  0.   0.   5.  13.   9.   1.   0.   0.]\n",
        " [  0.   0.  13.  15.  10.  15.   5.   0.]\n",
        " [  0.   3.  15.   2.   0.  11.   8.   0.]\n",
        " [  0.   4.  12.   0.   0.   8.   8.   0.]\n",
        " [  0.   5.   8.   0.   0.   9.   8.   0.]\n",
        " [  0.   4.  11.   0.   1.  12.   7.   0.]\n",
        " [  0.   2.  14.   5.  10.  12.   0.   0.]\n",
        " [  0.   0.   6.  13.  10.   0.   0.   0.]]\n"
       ]
      }
     ],
     "prompt_number": 99
    },
    {
     "cell_type": "code",
     "collapsed": false,
     "input": [
      "%matplotlib inline\n",
      "import matplotlib.pyplot as plt\n",
      "plt.gray()\n",
      "plt.matshow(digits.images[0])"
     ],
     "language": "python",
     "metadata": {},
     "outputs": [
      {
       "metadata": {},
       "output_type": "pyout",
       "prompt_number": 100,
       "text": [
        "<matplotlib.image.AxesImage at 0x10cc5d6d0>"
       ]
      },
      {
       "metadata": {},
       "output_type": "display_data",
       "text": [
        "<matplotlib.figure.Figure at 0x10c960050>"
       ]
      },
      {
       "metadata": {},
       "output_type": "display_data",
       "png": "[encoded data removed]",
       "text": [
        "<matplotlib.figure.Figure at 0x10c960f10>"
       ]
      }
     ],
     "prompt_number": 100
    },
    {
     "cell_type": "code",
     "collapsed": false,
     "input": [
      "print digits.target.shape\n",
      "print digits.target[:15]"
     ],
     "language": "python",
     "metadata": {},
     "outputs": [
      {
       "output_type": "stream",
       "stream": "stdout",
       "text": [
        "(1797,)\n",
        "[0 1 2 3 4 5 6 7 8 9 0 1 2 3 4]\n"
       ]
      }
     ],
     "prompt_number": 101
    },
    {
     "cell_type": "code",
     "collapsed": false,
     "input": [
      "for i in range(5):\n",
      "    image = digits.images[i]\n",
      "    digitname = digits.target[i]\n",
      "    plt.matshow(image)\n",
      "    plt.title(\"Digit %s\" % digitname)"
     ],
     "language": "python",
     "metadata": {},
     "outputs": [
      {
       "metadata": {},
       "output_type": "display_data",
       "png": "[encoded data removed]",
       "text": [
        "<matplotlib.figure.Figure at 0x10c87dd50>"
       ]
      },
      {
       "metadata": {},
       "output_type": "display_data",
       "png": "[encoded data removed]",
       "text": [
        "<matplotlib.figure.Figure at 0x10cbea1d0>"
       ]
      },
      {
       "metadata": {},
       "output_type": "display_data",
       "png": "[encoded data removed]",
       "text": [
        "<matplotlib.figure.Figure at 0x10559ca50>"
       ]
      },
      {
       "metadata": {},
       "output_type": "display_data",
       "png": "[encoded data removed]",
       "text": [
        "<matplotlib.figure.Figure at 0x10d611310>"
       ]
      },
      {
       "metadata": {},
       "output_type": "display_data",
       "png": "[encoded data removed]",
       "text": [
        "<matplotlib.figure.Figure at 0x10d26bad0>"
       ]
      }
     ],
     "prompt_number": 102
    },
    {
     "cell_type": "code",
     "collapsed": false,
     "input": [
      "plt.hist(digits.target, bins=10)"
     ],
     "language": "python",
     "metadata": {},
     "outputs": [
      {
       "metadata": {},
       "output_type": "pyout",
       "prompt_number": 103,
       "text": [
        "(array([ 178.,  182.,  177.,  183.,  181.,  182.,  181.,  179.,  174.,  180.]),\n",
        " array([ 0. ,  0.9,  1.8,  2.7,  3.6,  4.5,  5.4,  6.3,  7.2,  8.1,  9. ]),\n",
        " <a list of 10 Patch objects>)"
       ]
      },
      {
       "metadata": {},
       "output_type": "display_data",
       "png": "[encoded data removed]",
       "text": [
        "<matplotlib.figure.Figure at 0x10d36c110>"
       ]
      }
     ],
     "prompt_number": 103
    },
    {
     "cell_type": "code",
     "collapsed": false,
     "input": [
      "print digits.data[0]"
     ],
     "language": "python",
     "metadata": {},
     "outputs": [
      {
       "output_type": "stream",
       "stream": "stdout",
       "text": [
        "[  0.   0.   5.  13.   9.   1.   0.   0.   0.   0.  13.  15.  10.  15.   5.\n",
        "   0.   0.   3.  15.   2.   0.  11.   8.   0.   0.   4.  12.   0.   0.   8.\n",
        "   8.   0.   0.   5.   8.   0.   0.   9.   8.   0.   0.   4.  11.   0.   1.\n",
        "  12.   7.   0.   0.   2.  14.   5.  10.  12.   0.   0.   0.   0.   6.  13.\n",
        "  10.   0.   0.   0.]\n"
       ]
      }
     ],
     "prompt_number": 104
    },
    {
     "cell_type": "code",
     "collapsed": false,
     "input": [
      "import numpy as np\n",
      "from sklearn.cross_validation import train_test_split\n",
      "X_train, X_test, Y_train, Y_test = train_test_split(digits.data, digits.target)\n"
     ],
     "language": "python",
     "metadata": {},
     "outputs": [],
     "prompt_number": 105
    },
    {
     "cell_type": "code",
     "collapsed": false,
     "input": [
      "from sklearn import naive_bayes\n",
      "from sklearn.metrics import accuracy_score, classification_report\n",
      "\n",
      "model = naive_bayes.GaussianNB()\n",
      "model.fit(X_train, Y_train)\n",
      "\n",
      "print \"Accuracy: %.3f\"% accuracy_score(Y_test, model.predict(X_test))\n",
      "print classification_report(Y_test, model.predict(X_test))\n"
     ],
     "language": "python",
     "metadata": {},
     "outputs": [
      {
       "output_type": "stream",
       "stream": "stdout",
       "text": [
        "Accuracy: 0.824\n",
        "             precision    recall  f1-score   support\n",
        "\n",
        "          0       0.98      0.95      0.96        42\n",
        "          1       0.83      0.71      0.76        48\n",
        "          2       0.77      0.83      0.80        53\n",
        "          3       0.97      0.67      0.79        43\n",
        "          4       0.90      0.73      0.80        51\n",
        "          5       0.85      0.94      0.89        47\n",
        "          6       0.96      0.96      0.96        50\n",
        "          7       0.62      0.93      0.74        45\n",
        "          8       0.61      0.71      0.66        35\n",
        "          9       0.97      0.78      0.86        36\n",
        "\n",
        "avg / total       0.85      0.82      0.83       450\n",
        "\n"
       ]
      }
     ],
     "prompt_number": 106
    },
    {
     "cell_type": "code",
     "collapsed": false,
     "input": [
      "model = naive_bayes.BernoulliNB()\n",
      "model.fit(X_train, Y_train)\n",
      "\n",
      "print \"Accuracy: %.3f\"% accuracy_score(Y_test, model.predict(X_test))\n",
      "print classification_report(Y_test, model.predict(X_test))\n"
     ],
     "language": "python",
     "metadata": {},
     "outputs": [
      {
       "output_type": "stream",
       "stream": "stdout",
       "text": [
        "Accuracy: 0.824\n",
        "             precision    recall  f1-score   support\n",
        "\n",
        "          0       0.95      0.95      0.95        42\n",
        "          1       0.79      0.56      0.66        48\n",
        "          2       0.89      0.79      0.84        53\n",
        "          3       0.89      0.79      0.84        43\n",
        "          4       0.87      0.88      0.87        51\n",
        "          5       0.95      0.77      0.85        47\n",
        "          6       0.92      0.90      0.91        50\n",
        "          7       0.88      0.93      0.90        45\n",
        "          8       0.55      0.86      0.67        35\n",
        "          9       0.64      0.83      0.72        36\n",
        "\n",
        "avg / total       0.84      0.82      0.83       450\n",
        "\n"
       ]
      }
     ],
     "prompt_number": 107
    },
    {
     "cell_type": "code",
     "collapsed": false,
     "input": [
      "model = naive_bayes.MultinomialNB()\n",
      "model.fit(X_train, Y_train)\n",
      "\n",
      "print \"Accuracy: %.3f\"% accuracy_score(Y_test, model.predict(X_test))\n",
      "print classification_report(Y_test, model.predict(X_test))\n"
     ],
     "language": "python",
     "metadata": {},
     "outputs": [
      {
       "output_type": "stream",
       "stream": "stdout",
       "text": [
        "Accuracy: 0.884\n",
        "             precision    recall  f1-score   support\n",
        "\n",
        "          0       0.98      0.98      0.98        42\n",
        "          1       0.85      0.69      0.76        48\n",
        "          2       0.96      0.85      0.90        53\n",
        "          3       1.00      0.88      0.94        43\n",
        "          4       0.94      0.90      0.92        51\n",
        "          5       0.95      0.83      0.89        47\n",
        "          6       0.98      0.96      0.97        50\n",
        "          7       0.91      0.96      0.93        45\n",
        "          8       0.65      0.89      0.75        35\n",
        "          9       0.68      0.94      0.79        36\n",
        "\n",
        "avg / total       0.90      0.88      0.89       450\n",
        "\n"
       ]
      }
     ],
     "prompt_number": 108
    },
    {
     "cell_type": "code",
     "collapsed": false,
     "input": [
      "from sklearn.svm import LinearSVC, SVC\n",
      "from sklearn.preprocessing import scale\n",
      "\n",
      "X_train = scale(X_train)\n",
      "X_test = scale(X_test)\n",
      "\n",
      "model = LinearSVC()\n",
      "model.fit(X_train, Y_train)\n",
      "\n",
      "print \"Accuracy: %.3f\"% accuracy_score(Y_test, model.predict(X_test))\n",
      "print classification_report(Y_test, model.predict(X_test))\n",
      "\n"
     ],
     "language": "python",
     "metadata": {},
     "outputs": [
      {
       "output_type": "stream",
       "stream": "stdout",
       "text": [
        "Accuracy: 0.956\n",
        "             precision    recall  f1-score   support\n",
        "\n",
        "          0       1.00      0.95      0.98        42\n",
        "          1       0.90      0.92      0.91        48\n",
        "          2       0.98      1.00      0.99        53\n",
        "          3       0.91      0.95      0.93        43\n",
        "          4       0.98      0.98      0.98        51\n",
        "          5       0.96      0.98      0.97        47\n",
        "          6       0.98      0.94      0.96        50\n",
        "          7       1.00      0.96      0.98        45\n",
        "          8       0.86      0.89      0.87        35\n",
        "          9       0.97      0.97      0.97        36\n",
        "\n",
        "avg / total       0.96      0.96      0.96       450\n",
        "\n"
       ]
      }
     ],
     "prompt_number": 109
    },
    {
     "cell_type": "code",
     "collapsed": false,
     "input": [
      "model = SVC()\n",
      "model.fit(X_train, Y_train)\n",
      "\n",
      "print \"Accuracy: %.3f\"% accuracy_score(Y_test, model.predict(X_test))\n",
      "print classification_report(Y_test, model.predict(X_test))\n",
      "\n"
     ],
     "language": "python",
     "metadata": {},
     "outputs": [
      {
       "output_type": "stream",
       "stream": "stdout",
       "text": [
        "Accuracy: 0.982\n",
        "             precision    recall  f1-score   support\n",
        "\n",
        "          0       1.00      1.00      1.00        42\n",
        "          1       0.96      1.00      0.98        48\n",
        "          2       1.00      0.94      0.97        53\n",
        "          3       1.00      0.98      0.99        43\n",
        "          4       0.96      1.00      0.98        51\n",
        "          5       0.98      0.98      0.98        47\n",
        "          6       0.98      1.00      0.99        50\n",
        "          7       1.00      1.00      1.00        45\n",
        "          8       0.94      0.94      0.94        35\n",
        "          9       1.00      0.97      0.99        36\n",
        "\n",
        "avg / total       0.98      0.98      0.98       450\n",
        "\n"
       ]
      }
     ],
     "prompt_number": 111
    }
   ],
   "metadata": {}
  }
 ]
}