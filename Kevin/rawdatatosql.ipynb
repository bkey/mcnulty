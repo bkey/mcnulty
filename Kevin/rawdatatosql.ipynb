{
 "metadata": {
  "name": "",
  "signature": "sha256:b411b88999bb27746d7608ec91f35d56e5b8adee1827a7461a6eb113162bd4fb"
 },
 "nbformat": 3,
 "nbformat_minor": 0,
 "worksheets": [
  {
   "cells": [
    {
     "cell_type": "code",
     "collapsed": false,
     "input": [
      "csv = open(\"ownership2.dat\", 'w')\n",
      "with open (\"/Users/Home/Downloads/cps_00001.dat\",'r') as datfile:\n",
      "    for line in datfile:\n",
      "        csv.write(str(line[0:5])+','+str(line[5:7])+','+str(line[7:9])+'\\n')\n",
      "        \n",
      "#     for i in range(5):\n",
      "#         print datfile[i]\n",
      "#         csv.write(line[0:5]+','+line[5:7]+','+line[7:9]+'\\n')\n"
     ],
     "language": "python",
     "metadata": {},
     "outputs": [],
     "prompt_number": 11
    }
   ],
   "metadata": {}
  }
 ]
}