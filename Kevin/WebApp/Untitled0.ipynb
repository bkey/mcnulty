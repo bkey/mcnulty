{
 "metadata": {
  "name": "",
  "signature": "sha256:6c198759d9e6599f232c5b53edf202a3a5cf6a63ca3aa9d203a0cd14448045f9"
 },
 "nbformat": 3,
 "nbformat_minor": 0,
 "worksheets": [
  {
   "cells": [
    {
     "cell_type": "code",
     "collapsed": false,
     "input": [
      "import pandas as pd\n",
      "from sklearn.linear_model import LogisticRegression as log\n",
      "\n",
      "df = pd.read_csv(\"homeowner.data\")\n",
      "\n",
      "X = df[['age','marital_status','edu_level_id','income_total']]\n",
      "Y = df['own']\n",
      "PREDICTOR = log().fit(X,Y)\n",
      "df.head()\n"
     ],
     "language": "python",
     "metadata": {},
     "outputs": [
      {
       "html": [
        "<div style=\"max-height:1000px;max-width:1500px;overflow:auto;\">\n",
        "<table border=\"1\" class=\"dataframe\">\n",
        "  <thead>\n",
        "    <tr style=\"text-align: right;\">\n",
        "      <th></th>\n",
        "      <th>Unnamed: 0</th>\n",
        "      <th>age</th>\n",
        "      <th>marital_status</th>\n",
        "      <th>edu_level_id</th>\n",
        "      <th>income_total</th>\n",
        "      <th>own</th>\n",
        "    </tr>\n",
        "  </thead>\n",
        "  <tbody>\n",
        "    <tr>\n",
        "      <th>0</th>\n",
        "      <td>  0</td>\n",
        "      <td> 73</td>\n",
        "      <td> 1</td>\n",
        "      <td> 124</td>\n",
        "      <td> 207803</td>\n",
        "      <td> 10</td>\n",
        "    </tr>\n",
        "    <tr>\n",
        "      <th>1</th>\n",
        "      <td>  7</td>\n",
        "      <td> 43</td>\n",
        "      <td> 4</td>\n",
        "      <td>  73</td>\n",
        "      <td>  81047</td>\n",
        "      <td> 10</td>\n",
        "    </tr>\n",
        "    <tr>\n",
        "      <th>2</th>\n",
        "      <td>  8</td>\n",
        "      <td> 67</td>\n",
        "      <td> 4</td>\n",
        "      <td>  73</td>\n",
        "      <td>  25600</td>\n",
        "      <td> 10</td>\n",
        "    </tr>\n",
        "    <tr>\n",
        "      <th>3</th>\n",
        "      <td>  9</td>\n",
        "      <td> 70</td>\n",
        "      <td> 1</td>\n",
        "      <td>  60</td>\n",
        "      <td>  31192</td>\n",
        "      <td> 10</td>\n",
        "    </tr>\n",
        "    <tr>\n",
        "      <th>4</th>\n",
        "      <td> 12</td>\n",
        "      <td> 55</td>\n",
        "      <td> 1</td>\n",
        "      <td>  73</td>\n",
        "      <td>  85002</td>\n",
        "      <td> 10</td>\n",
        "    </tr>\n",
        "  </tbody>\n",
        "</table>\n",
        "</div>"
       ],
       "metadata": {},
       "output_type": "pyout",
       "prompt_number": 1,
       "text": [
        "   Unnamed: 0  age  marital_status  edu_level_id  income_total  own\n",
        "0           0   73               1           124        207803   10\n",
        "1           7   43               4            73         81047   10\n",
        "2           8   67               4            73         25600   10\n",
        "3           9   70               1            60         31192   10\n",
        "4          12   55               1            73         85002   10"
       ]
      }
     ],
     "prompt_number": 1
    },
    {
     "cell_type": "code",
     "collapsed": false,
     "input": [
      "import numpy as np\n",
      "\n",
      "x = np.matrix([64,2,6,50000])\n",
      "\n",
      "PREDICTOR.predict_proba(x)[0,0]"
     ],
     "language": "python",
     "metadata": {},
     "outputs": [
      {
       "metadata": {},
       "output_type": "pyout",
       "prompt_number": 2,
       "text": [
        "0.85147035944893712"
       ]
      }
     ],
     "prompt_number": 2
    },
    {
     "cell_type": "code",
     "collapsed": false,
     "input": [
      "from sklearn.neighbors import KNeighborsClassifier\n",
      "from sklearn.cross_validation import cross_val_score\n",
      "\n",
      "# print cross_val_score(log(),X,Y, cv=5).mean()\n",
      "\n",
      "for c in range(1,100,10):\n",
      "    print cross_val_score(KNeighborsClassifier(n_neighbors=c),X,Y, cv=5).mean()"
     ],
     "language": "python",
     "metadata": {},
     "outputs": [
      {
       "output_type": "stream",
       "stream": "stdout",
       "text": [
        "0.654301323869\n",
        "0.712086836581"
       ]
      },
      {
       "output_type": "stream",
       "stream": "stdout",
       "text": [
        "\n",
        "0.711548620666"
       ]
      },
      {
       "output_type": "stream",
       "stream": "stdout",
       "text": [
        "\n",
        "0.709216527854"
       ]
      },
      {
       "output_type": "stream",
       "stream": "stdout",
       "text": [
        "\n",
        "0.708459055418"
       ]
      },
      {
       "output_type": "stream",
       "stream": "stdout",
       "text": [
        "\n",
        "0.707522115428"
       ]
      },
      {
       "output_type": "stream",
       "stream": "stdout",
       "text": [
        "\n",
        "0.706346052247"
       ]
      },
      {
       "output_type": "stream",
       "stream": "stdout",
       "text": [
        "\n",
        "0.704452426784"
       ]
      },
      {
       "output_type": "stream",
       "stream": "stdout",
       "text": [
        "\n",
        "0.703714838899"
       ]
      },
      {
       "output_type": "stream",
       "stream": "stdout",
       "text": [
        "\n",
        "0.701402582957"
       ]
      },
      {
       "output_type": "stream",
       "stream": "stdout",
       "text": [
        "\n"
       ]
      }
     ],
     "prompt_number": 14
    },
    {
     "cell_type": "code",
     "collapsed": false,
     "input": [
      "df.head()"
     ],
     "language": "python",
     "metadata": {},
     "outputs": [
      {
       "html": [
        "<div style=\"max-height:1000px;max-width:1500px;overflow:auto;\">\n",
        "<table border=\"1\" class=\"dataframe\">\n",
        "  <thead>\n",
        "    <tr style=\"text-align: right;\">\n",
        "      <th></th>\n",
        "      <th>Unnamed: 0</th>\n",
        "      <th>age</th>\n",
        "      <th>marital_status</th>\n",
        "      <th>edu_level_id</th>\n",
        "      <th>income_total</th>\n",
        "      <th>own</th>\n",
        "    </tr>\n",
        "  </thead>\n",
        "  <tbody>\n",
        "    <tr>\n",
        "      <th>0</th>\n",
        "      <td>  0</td>\n",
        "      <td> 73</td>\n",
        "      <td> 1</td>\n",
        "      <td> 124</td>\n",
        "      <td> 207803</td>\n",
        "      <td> 10</td>\n",
        "    </tr>\n",
        "    <tr>\n",
        "      <th>1</th>\n",
        "      <td>  7</td>\n",
        "      <td> 43</td>\n",
        "      <td> 4</td>\n",
        "      <td>  73</td>\n",
        "      <td>  81047</td>\n",
        "      <td> 10</td>\n",
        "    </tr>\n",
        "    <tr>\n",
        "      <th>2</th>\n",
        "      <td>  8</td>\n",
        "      <td> 67</td>\n",
        "      <td> 4</td>\n",
        "      <td>  73</td>\n",
        "      <td>  25600</td>\n",
        "      <td> 10</td>\n",
        "    </tr>\n",
        "    <tr>\n",
        "      <th>3</th>\n",
        "      <td>  9</td>\n",
        "      <td> 70</td>\n",
        "      <td> 1</td>\n",
        "      <td>  60</td>\n",
        "      <td>  31192</td>\n",
        "      <td> 10</td>\n",
        "    </tr>\n",
        "    <tr>\n",
        "      <th>4</th>\n",
        "      <td> 12</td>\n",
        "      <td> 55</td>\n",
        "      <td> 1</td>\n",
        "      <td>  73</td>\n",
        "      <td>  85002</td>\n",
        "      <td> 10</td>\n",
        "    </tr>\n",
        "  </tbody>\n",
        "</table>\n",
        "</div>"
       ],
       "metadata": {},
       "output_type": "pyout",
       "prompt_number": 4,
       "text": [
        "   Unnamed: 0  age  marital_status  edu_level_id  income_total  own\n",
        "0           0   73               1           124        207803   10\n",
        "1           7   43               4            73         81047   10\n",
        "2           8   67               4            73         25600   10\n",
        "3           9   70               1            60         31192   10\n",
        "4          12   55               1            73         85002   10"
       ]
      }
     ],
     "prompt_number": 4
    },
    {
     "cell_type": "code",
     "collapsed": false,
     "input": [
      "df.edu_level_id.value_counts().sort_index()"
     ],
     "language": "python",
     "metadata": {},
     "outputs": [
      {
       "metadata": {},
       "output_type": "pyout",
       "prompt_number": 5,
       "text": [
        "2        133\n",
        "10       388\n",
        "20       757\n",
        "30       947\n",
        "40       741\n",
        "50       921\n",
        "60      1025\n",
        "71       600\n",
        "73     14121\n",
        "81      8633\n",
        "91      2336\n",
        "92      2684\n",
        "111    10292\n",
        "123     4590\n",
        "124      919\n",
        "125     1081\n",
        "dtype: int64"
       ]
      }
     ],
     "prompt_number": 5
    },
    {
     "cell_type": "code",
     "collapsed": false,
     "input": [
      "df_new = df.replace({\"edu_level_id\" : {2 : 1,10 : 1,20 : 1,30 : 1,40 : 1,50 : 1,60 : 1,70 : 1,71 : 1,73:1}})\n",
      "df_new = df_new.replace({\"edu_level_id\" : {81:2 ,91:3 ,92:3 ,111:4 ,123:5 ,124:6 ,125:6 }})"
     ],
     "language": "python",
     "metadata": {},
     "outputs": [],
     "prompt_number": 6
    },
    {
     "cell_type": "code",
     "collapsed": false,
     "input": [
      "df_new.edu_level_id.value_counts()"
     ],
     "language": "python",
     "metadata": {},
     "outputs": [
      {
       "metadata": {},
       "output_type": "pyout",
       "prompt_number": 7,
       "text": [
        "1    19633\n",
        "4    10292\n",
        "2     8633\n",
        "3     5020\n",
        "5     4590\n",
        "6     2000\n",
        "dtype: int64"
       ]
      }
     ],
     "prompt_number": 7
    },
    {
     "cell_type": "code",
     "collapsed": false,
     "input": [
      "% matplotlib inline\n",
      "df_new.income_total.hist(log= True, bins =5)"
     ],
     "language": "python",
     "metadata": {},
     "outputs": [
      {
       "metadata": {},
       "output_type": "pyout",
       "prompt_number": 8,
       "text": [
        "<matplotlib.axes.AxesSubplot at 0x10d4cc7d0>"
       ]
      },
      {
       "metadata": {},
       "output_type": "display_data",
       "png": "[encoded data removed]",
       "text": [
        "<matplotlib.figure.Figure at 0x10d4cc210>"
       ]
      }
     ],
     "prompt_number": 8
    },
    {
     "cell_type": "code",
     "collapsed": false,
     "input": [
      "df_new.head()"
     ],
     "language": "python",
     "metadata": {},
     "outputs": [
      {
       "html": [
        "<div style=\"max-height:1000px;max-width:1500px;overflow:auto;\">\n",
        "<table border=\"1\" class=\"dataframe\">\n",
        "  <thead>\n",
        "    <tr style=\"text-align: right;\">\n",
        "      <th></th>\n",
        "      <th>Unnamed: 0</th>\n",
        "      <th>age</th>\n",
        "      <th>marital_status</th>\n",
        "      <th>edu_level_id</th>\n",
        "      <th>income_total</th>\n",
        "      <th>own</th>\n",
        "    </tr>\n",
        "  </thead>\n",
        "  <tbody>\n",
        "    <tr>\n",
        "      <th>0</th>\n",
        "      <td>  0</td>\n",
        "      <td> 73</td>\n",
        "      <td> 1</td>\n",
        "      <td> 6</td>\n",
        "      <td> 207803</td>\n",
        "      <td> 10</td>\n",
        "    </tr>\n",
        "    <tr>\n",
        "      <th>1</th>\n",
        "      <td>  7</td>\n",
        "      <td> 43</td>\n",
        "      <td> 4</td>\n",
        "      <td> 1</td>\n",
        "      <td>  81047</td>\n",
        "      <td> 10</td>\n",
        "    </tr>\n",
        "    <tr>\n",
        "      <th>2</th>\n",
        "      <td>  8</td>\n",
        "      <td> 67</td>\n",
        "      <td> 4</td>\n",
        "      <td> 1</td>\n",
        "      <td>  25600</td>\n",
        "      <td> 10</td>\n",
        "    </tr>\n",
        "    <tr>\n",
        "      <th>3</th>\n",
        "      <td>  9</td>\n",
        "      <td> 70</td>\n",
        "      <td> 1</td>\n",
        "      <td> 1</td>\n",
        "      <td>  31192</td>\n",
        "      <td> 10</td>\n",
        "    </tr>\n",
        "    <tr>\n",
        "      <th>4</th>\n",
        "      <td> 12</td>\n",
        "      <td> 55</td>\n",
        "      <td> 1</td>\n",
        "      <td> 1</td>\n",
        "      <td>  85002</td>\n",
        "      <td> 10</td>\n",
        "    </tr>\n",
        "  </tbody>\n",
        "</table>\n",
        "</div>"
       ],
       "metadata": {},
       "output_type": "pyout",
       "prompt_number": 9,
       "text": [
        "   Unnamed: 0  age  marital_status  edu_level_id  income_total  own\n",
        "0           0   73               1             6        207803   10\n",
        "1           7   43               4             1         81047   10\n",
        "2           8   67               4             1         25600   10\n",
        "3           9   70               1             1         31192   10\n",
        "4          12   55               1             1         85002   10"
       ]
      }
     ],
     "prompt_number": 9
    },
    {
     "cell_type": "code",
     "collapsed": false,
     "input": [],
     "language": "python",
     "metadata": {},
     "outputs": [],
     "prompt_number": 9
    }
   ],
   "metadata": {}
  }
 ]
}