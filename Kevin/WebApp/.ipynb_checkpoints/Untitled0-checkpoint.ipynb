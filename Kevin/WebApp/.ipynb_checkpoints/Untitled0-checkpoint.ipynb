{
 "metadata": {
  "name": "",
  "signature": "sha256:dec0a0221fb28e1a34b1ebb598bf1374b8f021d5134799f2b0b684128605f2d6"
 },
 "nbformat": 3,
 "nbformat_minor": 0,
 "worksheets": []
}